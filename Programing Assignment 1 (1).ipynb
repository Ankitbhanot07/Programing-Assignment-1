{
 "cells": [
  {
   "cell_type": "markdown",
   "id": "68f94678",
   "metadata": {},
   "source": [
    "1.\tWrite a Python program to print \"Hello Python\"?\n",
    "2.\tWrite a Python program to do arithmetical operations addition and division.?\n",
    "3.\tWrite a Python program to find the area of a triangle?\n",
    "4.\tWrite a Python program to swap two variables?\n",
    "5.\tWrite a Python program to generate a random number?\n"
   ]
  },
  {
   "cell_type": "markdown",
   "id": "90dfeef8",
   "metadata": {},
   "source": [
    "#Q1 : Write a Python program to print \"Hello Python\"?\n",
    "    \n",
    "a = \"Hello Python\"\n",
    "\n",
    "print(a)"
   ]
  },
  {
   "cell_type": "markdown",
   "id": "d4c1b5bd",
   "metadata": {},
   "source": [
    "#Q2 : Write a Python program to do arithmetical operations addition and division.?\n",
    "\n",
    "\n",
    "a = 10\n",
    "b = 2\n",
    "\n",
    "print(a+b)"
   ]
  },
  {
   "cell_type": "markdown",
   "id": "d546eab1",
   "metadata": {},
   "source": [
    "a = 10\n",
    "b = 2\n",
    "\n",
    "print(a/b)"
   ]
  },
  {
   "cell_type": "markdown",
   "id": "f39acb0a",
   "metadata": {},
   "source": [
    "#Q3 : Write a Python program to find the area of a triangle?\n",
    "\n",
    "b = 10\n",
    "h = 20\n",
    "area = b*h/2\n",
    "\n",
    "print(\"area = \",area)"
   ]
  },
  {
   "cell_type": "markdown",
   "id": "72ef7681",
   "metadata": {},
   "source": [
    "#Q4 :Write a Python program to swap two variables?\n",
    "\n",
    "a = 10\n",
    "b = 5\n",
    "a,b=b,a\n",
    "\n",
    "print(\"a=\",a)\n",
    "print(\"b\",b)"
   ]
  },
  {
   "cell_type": "markdown",
   "id": "41c96b8c",
   "metadata": {},
   "source": [
    "#Q5 : Write a Python program to generate a random number?\n",
    "\n",
    "import random\n",
    "\n",
    "random.randint(0,20)"
   ]
  },
  {
   "cell_type": "code",
   "execution_count": null,
   "id": "2ad1cbdb",
   "metadata": {},
   "outputs": [],
   "source": []
  }
 ],
 "metadata": {
  "kernelspec": {
   "display_name": "Python 3 (ipykernel)",
   "language": "python",
   "name": "python3"
  },
  "language_info": {
   "codemirror_mode": {
    "name": "ipython",
    "version": 3
   },
   "file_extension": ".py",
   "mimetype": "text/x-python",
   "name": "python",
   "nbconvert_exporter": "python",
   "pygments_lexer": "ipython3",
   "version": "3.9.12"
  }
 },
 "nbformat": 4,
 "nbformat_minor": 5
}
